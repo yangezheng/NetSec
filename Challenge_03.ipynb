{
 "cells": [
  {
   "cell_type": "code",
   "execution_count": 59,
   "metadata": {},
   "outputs": [
    {
     "name": "stdout",
     "output_type": "stream",
     "text": [
      "▲\n",
      "b'\\xe2\\x96\\xb2'\n",
      "226\n",
      "150\n",
      "178\n"
     ]
    }
   ],
   "source": [
    "tri = '\\u25B2'\n",
    "print(tri)\n",
    "tri_utf = tri.encode(encoding='utf8')\n",
    "print(tri_utf)\n",
    "for byte in tri_utf:\n",
    "    print(byte)"
   ]
  },
  {
   "cell_type": "code",
   "execution_count": 47,
   "metadata": {},
   "outputs": [
    {
     "name": "stdout",
     "output_type": "stream",
     "text": [
      ">> This is Bob's secret stash. Bits or HAND (Have a nice day). <<\n",
      "\n",
      "Start Sending...\n",
      "sending byte of: \n",
      "32\n",
      "sending byte of: \n",
      "226\n",
      "sending byte of: \n",
      "150\n",
      "sending byte of: \n",
      "178\n",
      "sending byte of: \n",
      "10\n",
      "sending byte of: \n",
      "226\n",
      "sending byte of: \n",
      "150\n",
      "sending byte of: \n",
      "178\n",
      "sending byte of: \n",
      "32\n",
      "sending byte of: \n",
      "226\n",
      "sending byte of: \n",
      "150\n",
      "sending byte of: \n",
      "178\n",
      "Welcome oldfriend. Here. Have some BeefTaco.\n",
      "From Server: received 42 bytes\n",
      "flag{468c8cb7ffd4f05c1c49af7d2f0001fc5878}\n"
     ]
    }
   ],
   "source": [
    "#!/usr/bin/env python3\n",
    "import socket\n",
    "import time\n",
    "\n",
    "HOST = 'netsec.net.in.tum.de'\n",
    "PORT = 20003\n",
    "\n",
    "s = socket.socket(socket.AF_INET, socket.SOCK_STREAM)\n",
    "s.connect((HOST, PORT))\n",
    "\n",
    "buf = s.recv(1024)\n",
    "print(buf.decode())\n",
    "\n",
    "#  ▲\n",
    "# ▲ ▲\n",
    "triforce = \" ▲\\n▲ ▲\"  # Triforce symbol made with upward-pointing triangles\n",
    "\n",
    "# Encode the Triforce symbol into UTF-8\n",
    "utf8_encoded = triforce.encode('utf-8')\n",
    "\n",
    "# TODO you should send your triforce here\n",
    "print(\"Start Sending...\", flush=True)\n",
    "\n",
    "for byte in utf8_encoded:\n",
    "    print(\"sending byte of: \")\n",
    "    print(byte)\n",
    "    s.send(bytes([byte]))  # Sending each byte separately\n",
    "    time.sleep(1)  # Delay of one second between each byte\n",
    "\n",
    "# Sleeping for additional time to ensure the server receives the data\n",
    "time.sleep(3)\n",
    "\n",
    "sf = s.makefile(\"rw\")\n",
    "buf = sf.readline().rstrip('\\n')\n",
    "print(buf)\n",
    "\n",
    "data = sf.readline().rstrip('\\n')\n",
    "print(\"From Server: received {} bytes\".format(len(data)))\n",
    "\n",
    "print(data)\n",
    "\n",
    "sf.close()\n",
    "s.close()\n"
   ]
  }
 ],
 "metadata": {
  "kernelspec": {
   "display_name": "base",
   "language": "python",
   "name": "python3"
  },
  "language_info": {
   "codemirror_mode": {
    "name": "ipython",
    "version": 3
   },
   "file_extension": ".py",
   "mimetype": "text/x-python",
   "name": "python",
   "nbconvert_exporter": "python",
   "pygments_lexer": "ipython3",
   "version": "3.9.13"
  }
 },
 "nbformat": 4,
 "nbformat_minor": 2
}
