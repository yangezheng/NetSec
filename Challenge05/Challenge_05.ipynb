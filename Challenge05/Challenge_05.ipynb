{
 "cells": [
  {
   "cell_type": "code",
   "execution_count": 2,
   "metadata": {},
   "outputs": [],
   "source": [
    "#!/usr/bin/env python3\n",
    "import socket\n",
    "from base64 import b64encode, b64decode\n",
    "\n",
    "HOST = 'netsec.net.in.tum.de'    # TODO\n",
    "PORT = 20005                     # TODO"
   ]
  },
  {
   "cell_type": "code",
   "execution_count": 5,
   "metadata": {},
   "outputs": [
    {
     "name": "stdout",
     "output_type": "stream",
     "text": [
      "From Bob: `Welcome to Bob's data storage'\n",
      "From Bob: `Sending data'\n",
      "From Server: received 60 bytes\n",
      "b'flag{ea9466205326f81780109ed9b10a7da8f5eb}\\n'\n"
     ]
    }
   ],
   "source": [
    "\n",
    "def main():\n",
    "    # create socket and connect to bob\n",
    "    s = socket.socket(socket.AF_INET, socket.SOCK_STREAM)\n",
    "\n",
    "    # Our protocol is line-based. Each message should end with an '\\n'. Otherwise, it may result in errors!\n",
    "    # If your script is stuck (i.e the buffer is not flushed), you probably forgot the newline.\n",
    "\n",
    "    s.connect((HOST, PORT))\n",
    "    sf = s.makefile(\"rw\")  # we use a file abstraction for the sockets\n",
    "\n",
    "    banner = sf.readline().rstrip('\\n')\n",
    "    print(\"From Bob: `{}'\".format(banner)) # you should see the newline at the end printed\n",
    "\n",
    "    # \"SEND ENCRYPTED DATA\"\n",
    "    sf.write(\"SEND __________DATA\\n\")\n",
    "    sf.flush()\n",
    "\n",
    "    data = sf.readline().rstrip('\\n')\n",
    "    print(\"From Bob: `{}'\".format(data))\n",
    "\n",
    "    data = sf.readline().rstrip('\\n')\n",
    "    print(\"From Server: received {} bytes\".format(len(data)))\n",
    "\n",
    "    if ',' in data:\n",
    "        # IV,ENCRYPTED DATA\n",
    "        print(\"Data seems to be encrypted\")\n",
    "        return\n",
    "    \n",
    "    de_data = b64decode(data)\n",
    "    print(de_data)\n",
    "\n",
    "    sf.close()\n",
    "    s.close()\n",
    "\n",
    "main()\n",
    "\n"
   ]
  }
 ],
 "metadata": {
  "kernelspec": {
   "display_name": "base",
   "language": "python",
   "name": "python3"
  },
  "language_info": {
   "codemirror_mode": {
    "name": "ipython",
    "version": 3
   },
   "file_extension": ".py",
   "mimetype": "text/x-python",
   "name": "python",
   "nbconvert_exporter": "python",
   "pygments_lexer": "ipython3",
   "version": "3.9.13"
  }
 },
 "nbformat": 4,
 "nbformat_minor": 2
}
