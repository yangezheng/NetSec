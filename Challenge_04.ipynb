{
 "cells": [
  {
   "cell_type": "code",
   "execution_count": 16,
   "metadata": {},
   "outputs": [],
   "source": [
    "## Challenge 01\n",
    "#!/usr/bin/env python3\n",
    "import socket\n",
    "# Fill in the right target here\n",
    "HOST = 'netsec.net.in.tum.de'    # TODO\n",
    "PORT = 56915                     # TODO"
   ]
  },
  {
   "cell_type": "code",
   "execution_count": 30,
   "metadata": {},
   "outputs": [
    {
     "name": "stdout",
     "output_type": "stream",
     "text": [
      "From Server: `'\n",
      "From Server: `>> Wood's Sooper Dooper Quiz <<'\n",
      "From Server: `--------------------------------'\n",
      "From Server: `What are the 6 security goals?'\n",
      "From Server: `Send them in a comma separated list.'\n",
      "From Server: `(e.g. quidditchbaelle,quidditchringe,10gratisschlaeger,quidditchkiste,glitzerbastelfolie,magic)'\n",
      "From Server: `login successful'\n",
      "From Server: `flag{5c55478c51e558b8f9cbeac7db1abaa36035}'\n",
      "From Server: `'\n"
     ]
    }
   ],
   "source": [
    "s = socket.socket(socket.AF_INET, socket.SOCK_STREAM)\n",
    "\n",
    "s.connect((HOST, PORT))\n",
    "sf = s.makefile(\"rw\")  # we use a file abstraction for the sockets\n",
    "\n",
    "def read(sf):\n",
    "    data = sf.readline().rstrip('\\n')\n",
    "    print(\"From Server: `{}'\".format(data))\n",
    "\n",
    "def write(sf):\n",
    "    data = \"Confidentiality,Integrity,Authenticity,Controlled Access,Accountability,Availability\"\n",
    "    sf.write(\"{}\\n\".format(data))\n",
    "    sf.flush()\n",
    "\n",
    "read(sf)\n",
    "read(sf)\n",
    "read(sf)\n",
    "read(sf)\n",
    "read(sf)\n",
    "read(sf)\n",
    "write(sf)\n",
    "read(sf)\n",
    "read(sf)\n",
    "read(sf)"
   ]
  }
 ],
 "metadata": {
  "kernelspec": {
   "display_name": "base",
   "language": "python",
   "name": "python3"
  },
  "language_info": {
   "codemirror_mode": {
    "name": "ipython",
    "version": 3
   },
   "file_extension": ".py",
   "mimetype": "text/x-python",
   "name": "python",
   "nbconvert_exporter": "python",
   "pygments_lexer": "ipython3",
   "version": "3.9.13"
  }
 },
 "nbformat": 4,
 "nbformat_minor": 2
}
