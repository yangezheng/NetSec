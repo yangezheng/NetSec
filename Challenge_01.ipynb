{
 "cells": [
  {
   "cell_type": "code",
   "execution_count": 1,
   "metadata": {},
   "outputs": [],
   "source": [
    "## Challenge 01\n",
    "#!/usr/bin/env python3\n",
    "import socket\n",
    "# Fill in the right target here\n",
    "HOST = 'netsec.net.in.tum.de'    # TODO\n",
    "PORT = 20001                     # TODO"
   ]
  },
  {
   "cell_type": "code",
   "execution_count": 33,
   "metadata": {},
   "outputs": [],
   "source": [
    "s = socket.socket(socket.AF_INET, socket.SOCK_STREAM)\n",
    "\n",
    "s.connect((HOST, PORT))\n",
    "sf = s.makefile(\"rw\")  # we use a file abstraction for the sockets\n",
    "\n",
    "def read(sf):\n",
    "    data = sf.readline().rstrip('\\n')\n",
    "    print(\"From Server: `{}'\".format(data))\n",
    "\n",
    "def write(sf):\n",
    "    data = input(\"Your Answer: \")\n",
    "    sf.write(\"{}\\n\".format(data))\n",
    "    sf.flush()"
   ]
  },
  {
   "cell_type": "code",
   "execution_count": 34,
   "metadata": {},
   "outputs": [
    {
     "name": "stdout",
     "output_type": "stream",
     "text": [
      "From Server: `SSH-0.0-Insecure'\n",
      "From Server: `password (hint: Tot4llyS3cure1):'\n",
      "From Server: `Permission denied'\n"
     ]
    }
   ],
   "source": [
    "\n",
    "# ToDo: implement communication with server here, using the template functions above\n",
    "read(sf)\n",
    "write(sf)\n",
    "read(sf)\n",
    "write(sf)\n",
    "read(sf)"
   ]
  },
  {
   "cell_type": "code",
   "execution_count": 20,
   "metadata": {},
   "outputs": [],
   "source": [
    "sf.close()\n",
    "s.close()"
   ]
  },
  {
   "cell_type": "code",
   "execution_count": null,
   "metadata": {},
   "outputs": [],
   "source": []
  }
 ],
 "metadata": {
  "kernelspec": {
   "display_name": "Python 3",
   "language": "python",
   "name": "python3"
  },
  "language_info": {
   "codemirror_mode": {
    "name": "ipython",
    "version": 3
   },
   "file_extension": ".py",
   "mimetype": "text/x-python",
   "name": "python",
   "nbconvert_exporter": "python",
   "pygments_lexer": "ipython3",
   "version": "3.9.13"
  }
 },
 "nbformat": 4,
 "nbformat_minor": 2
}
